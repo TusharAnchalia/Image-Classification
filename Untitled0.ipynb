{
  "nbformat": 4,
  "nbformat_minor": 0,
  "metadata": {
    "colab": {
      "name": "Untitled0.ipynb",
      "provenance": [],
      "collapsed_sections": [],
      "machine_shape": "hm"
    },
    "kernelspec": {
      "name": "python3",
      "display_name": "Python 3"
    },
    "accelerator": "TPU"
  },
  "cells": [
    {
      "cell_type": "code",
      "metadata": {
        "id": "Sq85oJUdjXNF",
        "colab_type": "code",
        "outputId": "b84c91aa-e5e9-4d3b-8f71-bd4cfe4c9782",
        "colab": {
          "base_uri": "https://localhost:8080/",
          "height": 122
        }
      },
      "source": [
        "from google.colab import drive\n",
        "drive.mount('/content/drive')"
      ],
      "execution_count": 0,
      "outputs": [
        {
          "output_type": "stream",
          "text": [
            "Go to this URL in a browser: https://accounts.google.com/o/oauth2/auth?client_id=947318989803-6bn6qk8qdgf4n4g3pfee6491hc0brc4i.apps.googleusercontent.com&redirect_uri=urn%3aietf%3awg%3aoauth%3a2.0%3aoob&response_type=code&scope=email%20https%3a%2f%2fwww.googleapis.com%2fauth%2fdocs.test%20https%3a%2f%2fwww.googleapis.com%2fauth%2fdrive%20https%3a%2f%2fwww.googleapis.com%2fauth%2fdrive.photos.readonly%20https%3a%2f%2fwww.googleapis.com%2fauth%2fpeopleapi.readonly\n",
            "\n",
            "Enter your authorization code:\n",
            "··········\n",
            "Mounted at /content/drive\n"
          ],
          "name": "stdout"
        }
      ]
    },
    {
      "cell_type": "markdown",
      "metadata": {
        "id": "lzJnb3s1kmMi",
        "colab_type": "text"
      },
      "source": [
        "# New Section"
      ]
    },
    {
      "cell_type": "markdown",
      "metadata": {
        "id": "LLq4Dy8jix32",
        "colab_type": "text"
      },
      "source": [
        "# New Section"
      ]
    },
    {
      "cell_type": "code",
      "metadata": {
        "id": "NquNXyMevLr_",
        "colab_type": "code",
        "colab": {}
      },
      "source": [
        "!unzip -uq \"/content/drive/My Drive/10-monkey-species.zip\" -d \"/content/drive/My Drive/\""
      ],
      "execution_count": 0,
      "outputs": []
    },
    {
      "cell_type": "code",
      "metadata": {
        "id": "zY8hiXWxDClP",
        "colab_type": "code",
        "colab": {
          "base_uri": "https://localhost:8080/",
          "height": 748
        },
        "outputId": "78f0a8c6-4f51-4020-92e1-29602a403861"
      },
      "source": [
        "import keras\n",
        "from keras.models import Sequential\n",
        "from keras.layers import Conv2D, MaxPooling2D, Dense, Flatten, BatchNormalization\n",
        "from keras.layers import Dropout\n",
        "\n",
        "\n",
        "#VGG16\n",
        "model = Sequential()\n",
        "\n",
        "#1st Layer\n",
        "model.add(Conv2D(96,(3,3),input_shape=(128,128,3),activation=\"relu\"))\n",
        "\n",
        "#2nd Layer\n",
        "model.add(Conv2D(128,(3,3), activation=\"relu\"))\n",
        "model.add(MaxPooling2D(pool_size=(2,2)))\n",
        "\n",
        "#3rd Layer\n",
        "model.add(Conv2D(128,(3,3),activation=\"relu\"))\n",
        "\n",
        "#4th Layer\n",
        "model.add(Conv2D(256,(3,3), activation=\"relu\"))\n",
        "model.add(MaxPooling2D(pool_size=(2,2)))\n",
        "\n",
        "#5th Layer\n",
        "model.add(Conv2D(128,(3,3), activation=\"relu\"))\n",
        "\n",
        "#6th Layer\n",
        "model.add(Conv2D(96,(3,3), activation=\"relu\"))\n",
        "model.add(MaxPooling2D(pool_size=(2,2)))\n",
        "\"\"\"\n",
        "#7th Layer\n",
        "model.add(Conv2D(128,(3,3), activation=\"relu\"))\n",
        "model.add(MaxPooling2D(pool_size=(2,2),strides=(2,2)))\"\"\"\n",
        "\"\"\"\n",
        "#8th Layer\n",
        "model.add(Conv2D(512,(3,3), activation=\"relu\"))\n",
        "\n",
        "#9th Layer\n",
        "model.add(Conv2D(512,(3,3), activation=\"relu\"))\n",
        "\n",
        "#10th Layer\n",
        "model.add(Conv2D(512,(3,3), activation=\"relu\"))\n",
        "model.add(MaxPooling2D(pool_size=(2,2),strides=(2,2)))\n",
        "\n",
        "#11th Layer\n",
        "model.add(Conv2D(512,(3,3), activation=\"relu\"))\n",
        "\n",
        "#12th Layer\n",
        "model.add(Conv2D(512,(3,3), activation=\"relu\"))\"\"\"\n",
        "\n",
        "#13th Layer\n",
        "\"\"\"model.add(Conv2D(512,(3,3), activation=\"relu\"))\n",
        "model.add(MaxPooling2D(pool_size=(2,2),strides=(2,2)))\"\"\"\n",
        "model.add(BatchNormalization())\n",
        "#Flattening\n",
        "model.add(Flatten())\n",
        "model.add(Dense(units=64,activation=\"relu\"))\n",
        "model.add(Dropout(rate=0.))\n",
        "model.add(Dense(units=32,activation=\"relu\"))\n",
        "model.add(Dropout(rate=0.2))\n",
        "model.add(Dense(units=10, activation=\"softmax\"))\n",
        "\n",
        "from keras import optimizers\n",
        "opt=optimizers.Adam(lr=0.00005)\n",
        "\n",
        "model.compile(optimizer=opt,loss='categorical_crossentropy',metrics=['accuracy'])\n",
        "\n",
        "from keras.preprocessing.image import ImageDataGenerator\n",
        "train_datagen=ImageDataGenerator(rescale=1./255, shear_range=0.2,\n",
        "                                 zoom_range=0.2, horizontal_flip=True)\n",
        "test_datagen=ImageDataGenerator(rescale=1./255)\n",
        "\n",
        "training_set=train_datagen.flow_from_directory('/content/drive/My Drive/train_data',target_size=(128,128),\n",
        "                                               batch_size=16,class_mode='categorical')\n",
        "test_set=test_datagen.flow_from_directory('/content/drive/My Drive/test_data',target_size=(128,128),\n",
        "                                          batch_size=16,class_mode='categorical')\n",
        "\n",
        "model.fit_generator(training_set,steps_per_epoch=5200/16,epochs=20,\n",
        "                         validation_data=test_set,validation_steps=1300/16)"
      ],
      "execution_count": 7,
      "outputs": [
        {
          "output_type": "stream",
          "text": [
            "Found 5200 images belonging to 10 classes.\n",
            "Found 1300 images belonging to 10 classes.\n",
            "Epoch 1/20\n",
            "325/325 [==============================] - 1956s 6s/step - loss: 2.2874 - accuracy: 0.1269 - val_loss: 2.2953 - val_accuracy: 0.1200\n",
            "Epoch 2/20\n",
            "325/325 [==============================] - 285s 877ms/step - loss: 2.2209 - accuracy: 0.1813 - val_loss: 3.1174 - val_accuracy: 0.1685\n",
            "Epoch 3/20\n",
            "325/325 [==============================] - 286s 879ms/step - loss: 2.1206 - accuracy: 0.2392 - val_loss: 2.0259 - val_accuracy: 0.1300\n",
            "Epoch 4/20\n",
            "325/325 [==============================] - 285s 878ms/step - loss: 2.0218 - accuracy: 0.2785 - val_loss: 1.6314 - val_accuracy: 0.3185\n",
            "Epoch 5/20\n",
            "325/325 [==============================] - 285s 877ms/step - loss: 1.9444 - accuracy: 0.3079 - val_loss: 3.4524 - val_accuracy: 0.1623\n",
            "Epoch 6/20\n",
            "325/325 [==============================] - 285s 876ms/step - loss: 1.8499 - accuracy: 0.3419 - val_loss: 1.1711 - val_accuracy: 0.2069\n",
            "Epoch 7/20\n",
            "325/325 [==============================] - 285s 878ms/step - loss: 1.7357 - accuracy: 0.4106 - val_loss: 2.0023 - val_accuracy: 0.2823\n",
            "Epoch 8/20\n",
            "325/325 [==============================] - 287s 882ms/step - loss: 1.6093 - accuracy: 0.4381 - val_loss: 2.2255 - val_accuracy: 0.4238\n",
            "Epoch 9/20\n",
            "325/325 [==============================] - 287s 882ms/step - loss: 1.4975 - accuracy: 0.4935 - val_loss: 1.5300 - val_accuracy: 0.3931\n",
            "Epoch 10/20\n",
            "325/325 [==============================] - 282s 866ms/step - loss: 1.3945 - accuracy: 0.5277 - val_loss: 1.8476 - val_accuracy: 0.3523\n",
            "Epoch 11/20\n",
            "325/325 [==============================] - 289s 889ms/step - loss: 1.2978 - accuracy: 0.5567 - val_loss: 1.3008 - val_accuracy: 0.4115\n",
            "Epoch 12/20\n",
            "325/325 [==============================] - 281s 865ms/step - loss: 1.1960 - accuracy: 0.5933 - val_loss: 2.1117 - val_accuracy: 0.5415\n",
            "Epoch 13/20\n",
            "325/325 [==============================] - 282s 869ms/step - loss: 1.1127 - accuracy: 0.6240 - val_loss: 0.9419 - val_accuracy: 0.6577\n",
            "Epoch 14/20\n",
            "325/325 [==============================] - 284s 873ms/step - loss: 1.0200 - accuracy: 0.6623 - val_loss: 0.8528 - val_accuracy: 0.6838\n",
            "Epoch 15/20\n",
            "325/325 [==============================] - 283s 871ms/step - loss: 0.9751 - accuracy: 0.6700 - val_loss: 0.6500 - val_accuracy: 0.7054\n",
            "Epoch 16/20\n",
            "325/325 [==============================] - 284s 875ms/step - loss: 0.8927 - accuracy: 0.7029 - val_loss: 0.4511 - val_accuracy: 0.6969\n",
            "Epoch 17/20\n",
            "325/325 [==============================] - 283s 872ms/step - loss: 0.8168 - accuracy: 0.7300 - val_loss: 0.8515 - val_accuracy: 0.7508\n",
            "Epoch 18/20\n",
            "325/325 [==============================] - 282s 869ms/step - loss: 0.7579 - accuracy: 0.7542 - val_loss: 0.3382 - val_accuracy: 0.7808\n",
            "Epoch 19/20\n",
            "325/325 [==============================] - 282s 866ms/step - loss: 0.6969 - accuracy: 0.7783 - val_loss: 0.1092 - val_accuracy: 0.7577\n",
            "Epoch 20/20\n",
            "325/325 [==============================] - 284s 875ms/step - loss: 0.6530 - accuracy: 0.7840 - val_loss: 0.6931 - val_accuracy: 0.7546\n"
          ],
          "name": "stdout"
        },
        {
          "output_type": "execute_result",
          "data": {
            "text/plain": [
              "<keras.callbacks.callbacks.History at 0x7f98c120bda0>"
            ]
          },
          "metadata": {
            "tags": []
          },
          "execution_count": 7
        }
      ]
    },
    {
      "cell_type": "code",
      "metadata": {
        "id": "nYBTJIQ1CZNH",
        "colab_type": "code",
        "colab": {}
      },
      "source": [
        "import matplotlib.pyplot as plt"
      ],
      "execution_count": 0,
      "outputs": []
    },
    {
      "cell_type": "code",
      "metadata": {
        "id": "uB0DMqfGrSfx",
        "colab_type": "code",
        "colab": {
          "base_uri": "https://localhost:8080/",
          "height": 295
        },
        "outputId": "6d1a065d-4fc5-48bb-d986-4559236d0b5f"
      },
      "source": [
        "history=model.history\n",
        "plt.plot(history.history['accuracy'])\n",
        "plt.plot(history.history['val_accuracy'])\n",
        "plt.title('Model accuracy')\n",
        "plt.ylabel('Accuracy')\n",
        "plt.xlabel('Epoch')\n",
        "plt.legend(['Train', 'Test'], loc='upper left')\n",
        "plt.show()\n"
      ],
      "execution_count": 11,
      "outputs": [
        {
          "output_type": "display_data",
          "data": {
            "image/png": "[encoded data removed]",
            "text/plain": [
              "<Figure size 432x288 with 1 Axes>"
            ]
          },
          "metadata": {
            "tags": [],
            "needs_background": "light"
          }
        }
      ]
    },
    {
      "cell_type": "code",
      "metadata": {
        "id": "CohRaXb4rnse",
        "colab_type": "code",
        "colab": {
          "base_uri": "https://localhost:8080/",
          "height": 295
        },
        "outputId": "7cf18952-19a9-4414-a3eb-b6ec240909fe"
      },
      "source": [
        "plt.plot(history.history['loss'])\n",
        "plt.plot(history.history['val_loss'])\n",
        "plt.title('Model loss')\n",
        "plt.ylabel('loss')\n",
        "plt.xlabel('Epoch')\n",
        "plt.legend(['Train', 'Test'], loc='upper right')\n",
        "plt.show()"
      ],
      "execution_count": 12,
      "outputs": [
        {
          "output_type": "display_data",
          "data": {
            "image/png": "[encoded data removed]",
            "text/plain": [
              "<Figure size 432x288 with 1 Axes>"
            ]
          },
          "metadata": {
            "tags": [],
            "needs_background": "light"
          }
        }
      ]
    },
    {
      "cell_type": "code",
      "metadata": {
        "id": "TfPHHOthsXDR",
        "colab_type": "code",
        "colab": {}
      },
      "source": [
        ""
      ],
      "execution_count": 0,
      "outputs": []
    }
  ]
}